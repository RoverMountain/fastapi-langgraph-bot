{
 "cells": [
  {
   "cell_type": "code",
   "execution_count": 6,
   "id": "75ef85ad-4d5a-4c29-8147-86f2d4b801fe",
   "metadata": {},
   "outputs": [
    {
     "name": "stdout",
     "output_type": "stream",
     "text": [
      "Resposta: Um agente autônomo de IA é um programa de computador que é capaz de tomar decisões e realizar ações de forma autônoma, sem a necessidade de intervenção humana. Esses agentes são projetados para realizar tarefas específicas de forma eficiente e eficaz, utilizando algoritmos de inteligência artificial para aprender e se adaptar ao ambiente em que estão inseridos. Eles podem ser utilizados em uma variedade de aplicações, como assistentes virtuais, sistemas de recomendação, robôs autônomos, entre outros.\n"
     ]
    }
   ],
   "source": [
    "import os\n",
    "from dotenv import load_dotenv\n",
    "from langchain_openai import ChatOpenAI\n",
    "from langchain_core.tools import tool\n",
    "from langgraph.graph import StateGraph, END\n",
    "from pydantic import BaseModel\n",
    "\n",
    "# Carrega variáveis do .env\n",
    "load_dotenv()\n",
    "\n",
    "# Modelo LLM\n",
    "llm = ChatOpenAI(model=\"gpt-3.5-turbo\", temperature=0)\n",
    "\n",
    "# Ferramenta simples\n",
    "@tool\n",
    "def somar(valores: str) -> str:\n",
    "    \"\"\"Soma dois números no formato 'numero1,numero2'.\"\"\"\n",
    "    try:\n",
    "        n1, n2 = map(float, valores.split(\",\"))\n",
    "        return str(n1 + n2)\n",
    "    except Exception:\n",
    "        return \"Formato inválido. Use: numero1,numero2\"\n",
    "\n",
    "# Define o schema do estado com pydantic\n",
    "class AgentState(BaseModel):\n",
    "    input: str\n",
    "    resposta: str = None\n",
    "\n",
    "# Função que processa o input com o LLM\n",
    "def chamar_llm(state: AgentState) -> AgentState:\n",
    "    resposta = llm.invoke(state.input)\n",
    "    return AgentState(input=state.input, resposta=resposta.content)\n",
    "\n",
    "# Monta o grafo\n",
    "builder = StateGraph(AgentState)\n",
    "builder.add_node(\"llm\", chamar_llm)\n",
    "builder.set_entry_point(\"llm\")\n",
    "builder.add_edge(\"llm\", END)\n",
    "\n",
    "# Compila o grafo\n",
    "graph = builder.compile()\n",
    "\n",
    "# Testa o agente\n",
    "entrada = AgentState(input=\"O que é um agente autônomo de IA?\")\n",
    "resposta = graph.invoke(entrada)\n",
    "print(\"Resposta:\", resposta[\"resposta\"])"
   ]
  },
  {
   "cell_type": "code",
   "execution_count": null,
   "id": "cda0c33c-8c04-4e5d-b6a4-c87dc97f281e",
   "metadata": {},
   "outputs": [],
   "source": []
  }
 ],
 "metadata": {
  "kernelspec": {
   "display_name": "Python (langchain-env)",
   "language": "python",
   "name": "langchain-env"
  },
  "language_info": {
   "codemirror_mode": {
    "name": "ipython",
    "version": 3
   },
   "file_extension": ".py",
   "mimetype": "text/x-python",
   "name": "python",
   "nbconvert_exporter": "python",
   "pygments_lexer": "ipython3",
   "version": "3.10.16"
  }
 },
 "nbformat": 4,
 "nbformat_minor": 5
}
